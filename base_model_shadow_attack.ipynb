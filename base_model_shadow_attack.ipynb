{
 "cells": [
  {
   "cell_type": "code",
   "execution_count": 44,
   "id": "qualified-evolution",
   "metadata": {},
   "outputs": [
    {
     "name": "stderr",
     "output_type": "stream",
     "text": [
      "Using backend: pytorch\n"
     ]
    }
   ],
   "source": [
    "import dgl\n",
    "import torch\n",
    "import torch.nn as nn\n",
    "import torch.nn.functional as F\n",
    "import dgl.data\n",
    "import pandas as pd\n",
    "import stellargraph as sg\n",
    "from stellargraph.mapper import GraphSAGENodeGenerator\n",
    "from stellargraph.layer import GraphSAGE\n",
    "from tensorflow.keras.callbacks import ModelCheckpoint, EarlyStopping\n",
    "from collections import Counter\n",
    "from tensorflow.keras import layers, optimizers, losses, metrics, Model\n",
    "from sklearn import preprocessing, feature_extraction, model_selection\n",
    "from stellargraph import datasets\n",
    "from IPython.display import display, HTML\n",
    "import matplotlib.pyplot as plt\n",
    "%matplotlib inline"
   ]
  },
  {
   "cell_type": "code",
   "execution_count": 45,
   "id": "italian-bulgarian",
   "metadata": {},
   "outputs": [
    {
     "data": {
      "text/html": [
       "The Cora dataset consists of 2708 scientific publications classified into one of seven classes. The citation network consists of 5429 links. Each publication in the dataset is described by a 0/1-valued word vector indicating the absence/presence of the corresponding word from the dictionary. The dictionary consists of 1433 unique words."
      ],
      "text/plain": [
       "<IPython.core.display.HTML object>"
      ]
     },
     "metadata": {},
     "output_type": "display_data"
    },
    {
     "name": "stderr",
     "output_type": "stream",
     "text": [
      "C:\\Users\\mauvi\\.conda\\envs\\cv38\\lib\\site-packages\\stellargraph\\core\\convert.py:86: FutureWarning: Passing a set as an indexer is deprecated and will raise in a future version. Use a list instead.\n",
      "  known = data[existing]\n",
      "C:\\Users\\mauvi\\.conda\\envs\\cv38\\lib\\site-packages\\stellargraph\\core\\convert.py:86: FutureWarning: Passing a set as an indexer is deprecated and will raise in a future version. Use a list instead.\n",
      "  known = data[existing]\n"
     ]
    }
   ],
   "source": [
    "dataset = datasets.Cora()\n",
    "display(HTML(dataset.description))\n",
    "G, node_subjects = dataset.load()"
   ]
  },
  {
   "cell_type": "markdown",
   "id": "synthetic-investing",
   "metadata": {},
   "source": [
    "This notebook builds the shadow model and attack model. The shadow model is trained with the exact same architecture as the target model, but only because the models are rather basic. If the target model had had an advanced architecture, it would be necessary to explain how the adversary knew it. \n",
    "\n",
    "The attack model is a simple MLP that learns from the confidence outcomes and predictions of the shadow model, and predicts whether or not a piece of data was used to train the model or not based on the confidence outcomes."
   ]
  },
  {
   "cell_type": "code",
   "execution_count": 46,
   "id": "aware-scott",
   "metadata": {},
   "outputs": [
    {
     "name": "stdout",
     "output_type": "stream",
     "text": [
      "Counter({'Neural_Networks': 79, 'Genetic_Algorithms': 50, 'Probabilistic_Methods': 38, 'Case_Based': 36, 'Theory': 28, 'Reinforcement_Learning': 22, 'Rule_Learning': 17})\n",
      "270\n",
      "Counter({'Neural_Networks': 148, 'Probabilistic_Methods': 74, 'Genetic_Algorithms': 72, 'Theory': 58, 'Case_Based': 54, 'Reinforcement_Learning': 41, 'Rule_Learning': 40})\n",
      "487\n",
      "Counter({'Neural_Networks': 139, 'Probabilistic_Methods': 82, 'Genetic_Algorithms': 80, 'Theory': 72, 'Case_Based': 44, 'Reinforcement_Learning': 41, 'Rule_Learning': 30})\n",
      "488\n"
     ]
    }
   ],
   "source": [
    "train_labels, test_labels = model_selection.train_test_split(\n",
    "    node_subjects, train_size=0.1, random_state=37\n",
    ")\n",
    "\n",
    "val_labels, test_labels = model_selection.train_test_split(\n",
    "    test_labels, train_size=0.2, test_size=0.2, random_state=48,\n",
    ")\n",
    "\n",
    "print(Counter(train_labels))\n",
    "print(sum(Counter(train_labels).values()))\n",
    "print(Counter(val_labels))\n",
    "print(sum(Counter(val_labels).values()))\n",
    "print(Counter(test_labels))\n",
    "print(sum(Counter(test_labels).values()))"
   ]
  },
  {
   "cell_type": "code",
   "execution_count": 47,
   "id": "imported-serum",
   "metadata": {},
   "outputs": [],
   "source": [
    "target_encoding = preprocessing.LabelBinarizer()\n",
    "\n",
    "train_targets = target_encoding.fit_transform(train_labels)\n",
    "val_targets = target_encoding.transform(val_labels)\n",
    "test_targets = target_encoding.transform(test_labels)"
   ]
  },
  {
   "cell_type": "code",
   "execution_count": 48,
   "id": "pediatric-serbia",
   "metadata": {},
   "outputs": [],
   "source": [
    "# number of nodes per batch\n",
    "batch_size = 50\n",
    "\n",
    "# number of neighbours per layer\n",
    "num_samples = [10, 5]\n",
    "\n",
    "# generator\n",
    "generator = GraphSAGENodeGenerator(G, batch_size, num_samples)\n",
    "\n",
    "# Generators for all the data sets\n",
    "train_gen = generator.flow(train_labels.index, train_targets, shuffle=True)\n",
    "val_gen = generator.flow(val_labels.index, val_targets)\n",
    "test_gen = generator.flow(test_labels.index, test_targets)\n"
   ]
  },
  {
   "cell_type": "code",
   "execution_count": 49,
   "id": "wanted-natural",
   "metadata": {},
   "outputs": [
    {
     "name": "stdout",
     "output_type": "stream",
     "text": [
      "WARNING:tensorflow:AutoGraph could not transform <bound method GraphSAGEAggregator.call of <stellargraph.layer.graphsage.MeanAggregator object at 0x000001D01C336F10>> and will run it as-is.\n",
      "Please report this to the TensorFlow team. When filing the bug, set the verbosity to 10 (on Linux, `export AUTOGRAPH_VERBOSITY=10`) and attach the full output.\n",
      "Cause: module 'gast' has no attribute 'Index'\n",
      "To silence this warning, decorate the function with @tf.autograph.experimental.do_not_convert\n",
      "WARNING: AutoGraph could not transform <bound method GraphSAGEAggregator.call of <stellargraph.layer.graphsage.MeanAggregator object at 0x000001D01C336F10>> and will run it as-is.\n",
      "Please report this to the TensorFlow team. When filing the bug, set the verbosity to 10 (on Linux, `export AUTOGRAPH_VERBOSITY=10`) and attach the full output.\n",
      "Cause: module 'gast' has no attribute 'Index'\n",
      "To silence this warning, decorate the function with @tf.autograph.experimental.do_not_convert\n"
     ]
    }
   ],
   "source": [
    "# GraphSage stellargraph model\n",
    "graphsage_model = GraphSAGE(\n",
    "    layer_sizes=[32, 32], \n",
    "    generator=generator,\n",
    "    bias=True, \n",
    "    dropout=0.2,\n",
    ")\n",
    "\n",
    "# get input and output tensors\n",
    "x_inp, x_out = graphsage_model.in_out_tensors()\n",
    "# pass the output tensor through the classification layer\n",
    "# prediction = layers.Dense(1, activation=\"sigmoid\")(x_out)\n",
    "prediction = layers.Dense(units=train_targets.shape[1], activation=\"softmax\")(x_out)\n",
    "# build and compile\n",
    "model = Model(inputs=x_inp, outputs=prediction)\n",
    "model.compile(\n",
    "    optimizer=optimizers.Adam(lr=0.005),\n",
    "    loss=losses.binary_crossentropy,\n",
    "    metrics=[metrics.AUC(num_thresholds=200, curve='ROC'), 'acc'],\n",
    ")\n",
    "# model.summary()"
   ]
  },
  {
   "cell_type": "code",
   "execution_count": 50,
   "id": "beginning-testimony",
   "metadata": {},
   "outputs": [
    {
     "name": "stdout",
     "output_type": "stream",
     "text": [
      "Epoch 1/20\n",
      "6/6 [==============================] - 1s 137ms/step - loss: 0.3884 - auc: 0.7021 - acc: 0.2704 - val_loss: 0.3651 - val_auc: 0.7742 - val_acc: 0.4066\n",
      "Epoch 2/20\n",
      "6/6 [==============================] - 0s 77ms/step - loss: 0.3295 - auc: 0.9086 - acc: 0.6037 - val_loss: 0.3316 - val_auc: 0.8709 - val_acc: 0.6057\n",
      "Epoch 3/20\n",
      "6/6 [==============================] - 1s 86ms/step - loss: 0.2873 - auc: 0.9847 - acc: 0.8778 - val_loss: 0.3006 - val_auc: 0.9417 - val_acc: 0.7207\n",
      "Epoch 4/20\n",
      "6/6 [==============================] - 0s 78ms/step - loss: 0.2507 - auc: 0.9952 - acc: 0.9593 - val_loss: 0.2765 - val_auc: 0.9481 - val_acc: 0.7331\n",
      "Epoch 5/20\n",
      "6/6 [==============================] - 0s 81ms/step - loss: 0.2192 - auc: 0.9981 - acc: 0.9778 - val_loss: 0.2571 - val_auc: 0.9474 - val_acc: 0.7515\n",
      "Epoch 6/20\n",
      "6/6 [==============================] - 0s 80ms/step - loss: 0.1916 - auc: 0.9992 - acc: 0.9815 - val_loss: 0.2391 - val_auc: 0.9542 - val_acc: 0.7782\n",
      "Epoch 7/20\n",
      "6/6 [==============================] - 1s 91ms/step - loss: 0.1693 - auc: 0.9996 - acc: 0.9852 - val_loss: 0.2241 - val_auc: 0.9545 - val_acc: 0.7741\n",
      "Epoch 8/20\n",
      "6/6 [==============================] - 0s 79ms/step - loss: 0.1469 - auc: 0.9999 - acc: 0.9926 - val_loss: 0.2077 - val_auc: 0.9599 - val_acc: 0.8049\n",
      "Epoch 9/20\n",
      "6/6 [==============================] - 0s 80ms/step - loss: 0.1322 - auc: 0.9999 - acc: 0.9889 - val_loss: 0.1975 - val_auc: 0.9606 - val_acc: 0.7988\n",
      "Epoch 10/20\n",
      "6/6 [==============================] - 0s 79ms/step - loss: 0.1169 - auc: 1.0000 - acc: 0.9963 - val_loss: 0.1904 - val_auc: 0.9599 - val_acc: 0.8049\n",
      "Epoch 11/20\n",
      "6/6 [==============================] - 0s 79ms/step - loss: 0.1016 - auc: 1.0000 - acc: 1.0000 - val_loss: 0.1838 - val_auc: 0.9594 - val_acc: 0.8111\n",
      "Epoch 12/20\n",
      "6/6 [==============================] - 0s 79ms/step - loss: 0.0904 - auc: 1.0000 - acc: 1.0000 - val_loss: 0.1779 - val_auc: 0.9605 - val_acc: 0.8029\n",
      "Epoch 13/20\n",
      "6/6 [==============================] - 1s 92ms/step - loss: 0.0802 - auc: 1.0000 - acc: 1.0000 - val_loss: 0.1739 - val_auc: 0.9572 - val_acc: 0.8111\n",
      "Epoch 14/20\n",
      "6/6 [==============================] - 0s 79ms/step - loss: 0.0726 - auc: 1.0000 - acc: 1.0000 - val_loss: 0.1680 - val_auc: 0.9596 - val_acc: 0.8008\n",
      "Epoch 15/20\n",
      "6/6 [==============================] - 0s 81ms/step - loss: 0.0648 - auc: 1.0000 - acc: 1.0000 - val_loss: 0.1678 - val_auc: 0.9566 - val_acc: 0.8029\n",
      "Epoch 16/20\n",
      "6/6 [==============================] - 0s 78ms/step - loss: 0.0599 - auc: 1.0000 - acc: 1.0000 - val_loss: 0.1671 - val_auc: 0.9541 - val_acc: 0.7947\n",
      "Epoch 17/20\n",
      "6/6 [==============================] - 0s 81ms/step - loss: 0.0542 - auc: 1.0000 - acc: 1.0000 - val_loss: 0.1632 - val_auc: 0.9537 - val_acc: 0.8070\n",
      "Epoch 18/20\n",
      "6/6 [==============================] - 1s 90ms/step - loss: 0.0483 - auc: 1.0000 - acc: 1.0000 - val_loss: 0.1657 - val_auc: 0.9561 - val_acc: 0.7885\n",
      "Epoch 19/20\n",
      "6/6 [==============================] - 0s 81ms/step - loss: 0.0453 - auc: 1.0000 - acc: 1.0000 - val_loss: 0.1614 - val_auc: 0.9558 - val_acc: 0.8070\n",
      "Epoch 20/20\n",
      "6/6 [==============================] - 0s 78ms/step - loss: 0.0405 - auc: 1.0000 - acc: 1.0000 - val_loss: 0.1607 - val_auc: 0.9543 - val_acc: 0.8008\n"
     ]
    }
   ],
   "source": [
    "\n",
    "history = model.fit(\n",
    "    train_gen, \n",
    "    epochs=20, \n",
    "    validation_data=val_gen, \n",
    "    verbose=1, \n",
    "    shuffle=False)"
   ]
  },
  {
   "cell_type": "code",
   "execution_count": 51,
   "id": "normal-quarter",
   "metadata": {},
   "outputs": [
    {
     "name": "stdout",
     "output_type": "stream",
     "text": [
      "10/10 [==============================] - 0s 25ms/step - loss: 0.1763 - auc: 0.9468 - acc: 0.7705\n",
      "\n",
      "Test Set Metrics:\n",
      "\tloss: 0.1763\n",
      "\tauc: 0.9468\n",
      "\tacc: 0.7705\n"
     ]
    }
   ],
   "source": [
    "test_metrics = model.evaluate(test_gen)\n",
    "print(\"\\nTest Set Metrics:\")\n",
    "for name, val in zip(model.metrics_names, test_metrics):\n",
    "    print(\"\\t{}: {:0.4f}\".format(name, val))"
   ]
  },
  {
   "cell_type": "code",
   "execution_count": 52,
   "id": "neither-probability",
   "metadata": {},
   "outputs": [
    {
     "name": "stdout",
     "output_type": "stream",
     "text": [
      "done\n"
     ]
    }
   ],
   "source": [
    "predictions = model.predict(train_gen)\n",
    "pd.DataFrame(predictions).to_csv('predictions_shad_final.csv')\n",
    "\n",
    "predictions_test = model.predict(test_gen)\n",
    "pd.DataFrame(predictions_test).to_csv('prediction_test_shad_final.csv')\n",
    "print(\"done\")"
   ]
  },
  {
   "cell_type": "code",
   "execution_count": 53,
   "id": "bottom-submission",
   "metadata": {},
   "outputs": [],
   "source": [
    "# Now, we prepare the attack model using the combined csvs from above\n",
    "# as the training data.\n",
    "import numpy as np\n",
    "import pandas as pd\n",
    "import matplotlib.pyplot as plt\n",
    "import seaborn as sns\n",
    "import torch\n",
    "import torch.nn as nn\n",
    "import torch.optim as optim\n",
    "from torch.utils.data import Dataset, DataLoader\n",
    "\n",
    "from sklearn.preprocessing import StandardScaler    \n",
    "from sklearn.model_selection import train_test_split\n",
    "from sklearn.metrics import confusion_matrix, classification_report"
   ]
  },
  {
   "cell_type": "code",
   "execution_count": 54,
   "id": "indian-violin",
   "metadata": {},
   "outputs": [],
   "source": [
    "df = pd.read_csv(\"predictions_shad_final.csv\")\n",
    "df.head()\n",
    "X = df.iloc[:, 0:-1]\n",
    "y = df.iloc[:, -1]\n",
    "\n",
    "X_train, X_test, y_train, y_test = \\\n",
    "train_test_split(X, y, test_size=0.33, random_state=69)"
   ]
  },
  {
   "cell_type": "code",
   "execution_count": 55,
   "id": "tribal-defensive",
   "metadata": {},
   "outputs": [],
   "source": [
    "scaler = StandardScaler()\n",
    "X_train = scaler.fit_transform(X_train)\n",
    "X_test = scaler.transform(X_test)"
   ]
  },
  {
   "cell_type": "code",
   "execution_count": 61,
   "id": "verified-fossil",
   "metadata": {},
   "outputs": [],
   "source": [
    "EPOCHS = 200\n",
    "BATCH_SIZE = 128\n",
    "LEARNING_RATE = 0.001"
   ]
  },
  {
   "cell_type": "code",
   "execution_count": 57,
   "id": "regulation-kingdom",
   "metadata": {},
   "outputs": [],
   "source": [
    "## train dataloader\n",
    "class TrainData(Dataset):\n",
    "    \n",
    "    def __init__(self, X_data, y_data):\n",
    "        self.X_data = X_data\n",
    "        self.y_data = y_data\n",
    "        \n",
    "    def __getitem__(self, index):\n",
    "        return self.X_data[index], self.y_data[index]\n",
    "        \n",
    "    def __len__ (self):\n",
    "        return len(self.X_data)\n",
    "\n",
    "train_data = TrainData(torch.FloatTensor(X_train), torch.FloatTensor(y_train.values))\n",
    "\n",
    "## test dataloader\n",
    "class TestData(Dataset):\n",
    "    \n",
    "    def __init__(self, X_data):\n",
    "        self.X_data = X_data\n",
    "        \n",
    "    def __getitem__(self, index):\n",
    "        return self.X_data[index]\n",
    "        \n",
    "    def __len__ (self):\n",
    "        return len(self.X_data)\n",
    "\n",
    "test_data = TestData(torch.FloatTensor(X_test))\n"
   ]
  },
  {
   "cell_type": "code",
   "execution_count": 58,
   "id": "thorough-encounter",
   "metadata": {},
   "outputs": [],
   "source": [
    "train_loader = DataLoader(dataset=train_data, batch_size=BATCH_SIZE, shuffle=True)\n",
    "test_loader = DataLoader(dataset=test_data, batch_size=1)"
   ]
  },
  {
   "cell_type": "code",
   "execution_count": 59,
   "id": "digital-tribune",
   "metadata": {},
   "outputs": [],
   "source": [
    "class BinaryClassification(nn.Module):\n",
    "    def __init__(self):\n",
    "        super(BinaryClassification, self).__init__()\n",
    "        # Number of input features is 7.\n",
    "        self.layer_1 = nn.Linear(7, 128) \n",
    "        self.layer_2 = nn.Linear(128, 128)\n",
    "        self.layer_out = nn.Linear(128, 1) \n",
    "        \n",
    "        self.relu = nn.ReLU()\n",
    "        self.dropout = nn.Dropout(p=0.1)\n",
    "        self.batchnorm1 = nn.BatchNorm1d(128)\n",
    "        self.batchnorm2 = nn.BatchNorm1d(128)\n",
    "        \n",
    "    def forward(self, inputs):\n",
    "        x = self.relu(self.layer_1(inputs))\n",
    "        x = self.batchnorm1(x)\n",
    "        x = self.relu(self.layer_2(x))\n",
    "        x = self.batchnorm2(x)\n",
    "        x = self.dropout(x)\n",
    "        x = self.layer_out(x)\n",
    "        \n",
    "        return x"
   ]
  },
  {
   "cell_type": "code",
   "execution_count": 60,
   "id": "instructional-canadian",
   "metadata": {},
   "outputs": [
    {
     "name": "stdout",
     "output_type": "stream",
     "text": [
      "BinaryClassification(\n",
      "  (layer_1): Linear(in_features=7, out_features=128, bias=True)\n",
      "  (layer_2): Linear(in_features=128, out_features=128, bias=True)\n",
      "  (layer_out): Linear(in_features=128, out_features=1, bias=True)\n",
      "  (relu): ReLU()\n",
      "  (dropout): Dropout(p=0.1, inplace=False)\n",
      "  (batchnorm1): BatchNorm1d(128, eps=1e-05, momentum=0.1, affine=True, track_running_stats=True)\n",
      "  (batchnorm2): BatchNorm1d(128, eps=1e-05, momentum=0.1, affine=True, track_running_stats=True)\n",
      ")\n"
     ]
    }
   ],
   "source": [
    "model = BinaryClassification()\n",
    "criterion = nn.BCEWithLogitsLoss()\n",
    "optimizer = optim.Adam(model.parameters(), lr=LEARNING_RATE)\n",
    "print(model)\n",
    "\n",
    "def binary_acc(y_pred, y_test):\n",
    "    y_pred_tag = torch.round(torch.sigmoid(y_pred))\n",
    "\n",
    "    correct_results_sum = (y_pred_tag == y_test).sum().float()\n",
    "    acc = correct_results_sum/y_test.shape[0]\n",
    "    acc = torch.round(acc * 100)\n",
    "    \n",
    "    return acc"
   ]
  },
  {
   "cell_type": "code",
   "execution_count": 62,
   "id": "sacred-malawi",
   "metadata": {},
   "outputs": [
    {
     "name": "stdout",
     "output_type": "stream",
     "text": [
      "Epoch 001: | Loss: 0.67408 | Acc: 58.000\n",
      "Epoch 002: | Loss: 0.59585 | Acc: 67.750\n",
      "Epoch 003: | Loss: 0.56126 | Acc: 69.250\n",
      "Epoch 004: | Loss: 0.53457 | Acc: 70.750\n",
      "Epoch 005: | Loss: 0.52317 | Acc: 71.250\n",
      "Epoch 006: | Loss: 0.51299 | Acc: 71.250\n",
      "Epoch 007: | Loss: 0.50117 | Acc: 72.500\n",
      "Epoch 008: | Loss: 0.47805 | Acc: 74.750\n",
      "Epoch 009: | Loss: 0.46152 | Acc: 74.000\n",
      "Epoch 010: | Loss: 0.45979 | Acc: 76.250\n",
      "Epoch 011: | Loss: 0.44285 | Acc: 77.750\n",
      "Epoch 012: | Loss: 0.45414 | Acc: 75.750\n",
      "Epoch 013: | Loss: 0.44710 | Acc: 78.250\n",
      "Epoch 014: | Loss: 0.43631 | Acc: 78.000\n",
      "Epoch 015: | Loss: 0.43352 | Acc: 80.000\n",
      "Epoch 016: | Loss: 0.42003 | Acc: 79.750\n",
      "Epoch 017: | Loss: 0.40765 | Acc: 80.000\n",
      "Epoch 018: | Loss: 0.39476 | Acc: 83.250\n",
      "Epoch 019: | Loss: 0.40425 | Acc: 80.000\n",
      "Epoch 020: | Loss: 0.37814 | Acc: 81.750\n",
      "Epoch 021: | Loss: 0.40227 | Acc: 80.500\n",
      "Epoch 022: | Loss: 0.41077 | Acc: 81.000\n",
      "Epoch 023: | Loss: 0.39294 | Acc: 79.500\n",
      "Epoch 024: | Loss: 0.38835 | Acc: 81.000\n",
      "Epoch 025: | Loss: 0.37783 | Acc: 81.000\n",
      "Epoch 026: | Loss: 0.39884 | Acc: 79.500\n",
      "Epoch 027: | Loss: 0.36654 | Acc: 83.500\n",
      "Epoch 028: | Loss: 0.39021 | Acc: 82.250\n",
      "Epoch 029: | Loss: 0.36377 | Acc: 83.250\n",
      "Epoch 030: | Loss: 0.39511 | Acc: 80.250\n",
      "Epoch 031: | Loss: 0.37785 | Acc: 81.500\n",
      "Epoch 032: | Loss: 0.39481 | Acc: 79.500\n",
      "Epoch 033: | Loss: 0.36855 | Acc: 81.750\n",
      "Epoch 034: | Loss: 0.37252 | Acc: 81.500\n",
      "Epoch 035: | Loss: 0.35632 | Acc: 82.750\n",
      "Epoch 036: | Loss: 0.36859 | Acc: 82.750\n",
      "Epoch 037: | Loss: 0.34832 | Acc: 83.250\n",
      "Epoch 038: | Loss: 0.34615 | Acc: 82.500\n",
      "Epoch 039: | Loss: 0.34934 | Acc: 83.500\n",
      "Epoch 040: | Loss: 0.34107 | Acc: 82.750\n",
      "Epoch 041: | Loss: 0.34641 | Acc: 84.000\n",
      "Epoch 042: | Loss: 0.34140 | Acc: 84.250\n",
      "Epoch 043: | Loss: 0.33951 | Acc: 83.250\n",
      "Epoch 044: | Loss: 0.34546 | Acc: 83.250\n",
      "Epoch 045: | Loss: 0.32838 | Acc: 85.750\n",
      "Epoch 046: | Loss: 0.31348 | Acc: 86.000\n",
      "Epoch 047: | Loss: 0.31788 | Acc: 86.000\n",
      "Epoch 048: | Loss: 0.33738 | Acc: 85.000\n",
      "Epoch 049: | Loss: 0.31528 | Acc: 85.000\n",
      "Epoch 050: | Loss: 0.33207 | Acc: 84.000\n",
      "Epoch 051: | Loss: 0.31282 | Acc: 85.000\n",
      "Epoch 052: | Loss: 0.33269 | Acc: 83.750\n",
      "Epoch 053: | Loss: 0.32339 | Acc: 85.250\n",
      "Epoch 054: | Loss: 0.33178 | Acc: 83.750\n",
      "Epoch 055: | Loss: 0.31932 | Acc: 84.750\n",
      "Epoch 056: | Loss: 0.32178 | Acc: 84.000\n",
      "Epoch 057: | Loss: 0.31302 | Acc: 85.750\n",
      "Epoch 058: | Loss: 0.31942 | Acc: 84.750\n",
      "Epoch 059: | Loss: 0.30078 | Acc: 86.000\n",
      "Epoch 060: | Loss: 0.30992 | Acc: 86.750\n",
      "Epoch 061: | Loss: 0.29736 | Acc: 85.750\n",
      "Epoch 062: | Loss: 0.32540 | Acc: 84.000\n",
      "Epoch 063: | Loss: 0.31699 | Acc: 84.500\n",
      "Epoch 064: | Loss: 0.30302 | Acc: 85.250\n",
      "Epoch 065: | Loss: 0.30433 | Acc: 85.750\n",
      "Epoch 066: | Loss: 0.30562 | Acc: 86.250\n",
      "Epoch 067: | Loss: 0.29511 | Acc: 85.500\n",
      "Epoch 068: | Loss: 0.30566 | Acc: 85.000\n",
      "Epoch 069: | Loss: 0.29309 | Acc: 86.500\n",
      "Epoch 070: | Loss: 0.28705 | Acc: 85.750\n",
      "Epoch 071: | Loss: 0.30145 | Acc: 85.000\n",
      "Epoch 072: | Loss: 0.28760 | Acc: 87.000\n",
      "Epoch 073: | Loss: 0.31951 | Acc: 84.250\n",
      "Epoch 074: | Loss: 0.29965 | Acc: 87.500\n",
      "Epoch 075: | Loss: 0.29397 | Acc: 86.500\n",
      "Epoch 076: | Loss: 0.29794 | Acc: 85.500\n",
      "Epoch 077: | Loss: 0.29457 | Acc: 87.750\n",
      "Epoch 078: | Loss: 0.29233 | Acc: 86.000\n",
      "Epoch 079: | Loss: 0.30145 | Acc: 85.500\n",
      "Epoch 080: | Loss: 0.28627 | Acc: 86.250\n",
      "Epoch 081: | Loss: 0.29401 | Acc: 86.000\n",
      "Epoch 082: | Loss: 0.29962 | Acc: 86.500\n",
      "Epoch 083: | Loss: 0.28447 | Acc: 86.500\n",
      "Epoch 084: | Loss: 0.28633 | Acc: 85.250\n",
      "Epoch 085: | Loss: 0.28074 | Acc: 87.000\n",
      "Epoch 086: | Loss: 0.27864 | Acc: 85.750\n",
      "Epoch 087: | Loss: 0.29140 | Acc: 85.500\n",
      "Epoch 088: | Loss: 0.28411 | Acc: 86.250\n",
      "Epoch 089: | Loss: 0.29296 | Acc: 87.000\n",
      "Epoch 090: | Loss: 0.29774 | Acc: 85.500\n",
      "Epoch 091: | Loss: 0.29185 | Acc: 86.500\n",
      "Epoch 092: | Loss: 0.28785 | Acc: 87.000\n",
      "Epoch 093: | Loss: 0.30254 | Acc: 85.750\n",
      "Epoch 094: | Loss: 0.28817 | Acc: 86.750\n",
      "Epoch 095: | Loss: 0.32612 | Acc: 85.000\n",
      "Epoch 096: | Loss: 0.28644 | Acc: 87.500\n",
      "Epoch 097: | Loss: 0.28624 | Acc: 87.250\n",
      "Epoch 098: | Loss: 0.29292 | Acc: 86.000\n",
      "Epoch 099: | Loss: 0.28301 | Acc: 86.250\n",
      "Epoch 100: | Loss: 0.29198 | Acc: 86.500\n",
      "Epoch 101: | Loss: 0.29732 | Acc: 86.500\n",
      "Epoch 102: | Loss: 0.28844 | Acc: 87.000\n",
      "Epoch 103: | Loss: 0.28231 | Acc: 87.000\n",
      "Epoch 104: | Loss: 0.29540 | Acc: 87.500\n",
      "Epoch 105: | Loss: 0.28820 | Acc: 86.250\n",
      "Epoch 106: | Loss: 0.31377 | Acc: 85.750\n",
      "Epoch 107: | Loss: 0.28231 | Acc: 88.000\n",
      "Epoch 108: | Loss: 0.28700 | Acc: 85.750\n",
      "Epoch 109: | Loss: 0.29287 | Acc: 86.000\n",
      "Epoch 110: | Loss: 0.28456 | Acc: 86.750\n",
      "Epoch 111: | Loss: 0.27885 | Acc: 87.250\n",
      "Epoch 112: | Loss: 0.29115 | Acc: 87.000\n",
      "Epoch 113: | Loss: 0.29531 | Acc: 85.000\n",
      "Epoch 114: | Loss: 0.29821 | Acc: 86.750\n",
      "Epoch 115: | Loss: 0.29827 | Acc: 87.250\n",
      "Epoch 116: | Loss: 0.27508 | Acc: 87.250\n",
      "Epoch 117: | Loss: 0.28671 | Acc: 86.500\n",
      "Epoch 118: | Loss: 0.27497 | Acc: 86.750\n",
      "Epoch 119: | Loss: 0.27293 | Acc: 88.000\n",
      "Epoch 120: | Loss: 0.28789 | Acc: 85.750\n",
      "Epoch 121: | Loss: 0.28481 | Acc: 85.500\n",
      "Epoch 122: | Loss: 0.28658 | Acc: 86.500\n",
      "Epoch 123: | Loss: 0.28204 | Acc: 86.500\n",
      "Epoch 124: | Loss: 0.27235 | Acc: 88.500\n",
      "Epoch 125: | Loss: 0.27698 | Acc: 87.000\n",
      "Epoch 126: | Loss: 0.27374 | Acc: 87.500\n",
      "Epoch 127: | Loss: 0.29823 | Acc: 86.750\n",
      "Epoch 128: | Loss: 0.29019 | Acc: 87.000\n",
      "Epoch 129: | Loss: 0.28609 | Acc: 86.750\n",
      "Epoch 130: | Loss: 0.26987 | Acc: 87.500\n",
      "Epoch 131: | Loss: 0.27634 | Acc: 87.750\n",
      "Epoch 132: | Loss: 0.25328 | Acc: 88.500\n",
      "Epoch 133: | Loss: 0.27453 | Acc: 86.500\n",
      "Epoch 134: | Loss: 0.28574 | Acc: 87.250\n",
      "Epoch 135: | Loss: 0.28812 | Acc: 86.500\n",
      "Epoch 136: | Loss: 0.26786 | Acc: 87.750\n",
      "Epoch 137: | Loss: 0.28218 | Acc: 86.500\n",
      "Epoch 138: | Loss: 0.25413 | Acc: 86.750\n",
      "Epoch 139: | Loss: 0.26707 | Acc: 87.250\n",
      "Epoch 140: | Loss: 0.25945 | Acc: 86.500\n",
      "Epoch 141: | Loss: 0.25698 | Acc: 87.750\n",
      "Epoch 142: | Loss: 0.28867 | Acc: 86.500\n",
      "Epoch 143: | Loss: 0.27569 | Acc: 87.250\n",
      "Epoch 144: | Loss: 0.28500 | Acc: 85.750\n",
      "Epoch 145: | Loss: 0.28763 | Acc: 85.500\n",
      "Epoch 146: | Loss: 0.26819 | Acc: 88.000\n",
      "Epoch 147: | Loss: 0.27598 | Acc: 86.500\n",
      "Epoch 148: | Loss: 0.27180 | Acc: 87.500\n",
      "Epoch 149: | Loss: 0.26077 | Acc: 87.000\n",
      "Epoch 150: | Loss: 0.25967 | Acc: 88.000\n",
      "Epoch 151: | Loss: 0.26959 | Acc: 87.750\n",
      "Epoch 152: | Loss: 0.25593 | Acc: 88.500\n",
      "Epoch 153: | Loss: 0.27469 | Acc: 88.000\n",
      "Epoch 154: | Loss: 0.25339 | Acc: 88.750\n",
      "Epoch 155: | Loss: 0.28371 | Acc: 86.750\n",
      "Epoch 156: | Loss: 0.25687 | Acc: 88.250\n",
      "Epoch 157: | Loss: 0.26575 | Acc: 87.500\n",
      "Epoch 158: | Loss: 0.27441 | Acc: 87.750\n",
      "Epoch 159: | Loss: 0.26230 | Acc: 88.250\n",
      "Epoch 160: | Loss: 0.25144 | Acc: 88.250\n",
      "Epoch 161: | Loss: 0.24719 | Acc: 87.500\n",
      "Epoch 162: | Loss: 0.24754 | Acc: 89.000\n",
      "Epoch 163: | Loss: 0.26391 | Acc: 87.000\n",
      "Epoch 164: | Loss: 0.25244 | Acc: 87.500\n",
      "Epoch 165: | Loss: 0.30232 | Acc: 85.750\n",
      "Epoch 166: | Loss: 0.26551 | Acc: 86.750\n",
      "Epoch 167: | Loss: 0.28512 | Acc: 86.000\n",
      "Epoch 168: | Loss: 0.27556 | Acc: 87.500\n",
      "Epoch 169: | Loss: 0.26376 | Acc: 87.500\n",
      "Epoch 170: | Loss: 0.26567 | Acc: 86.250\n",
      "Epoch 171: | Loss: 0.25736 | Acc: 88.750\n",
      "Epoch 172: | Loss: 0.26032 | Acc: 88.750\n",
      "Epoch 173: | Loss: 0.24315 | Acc: 88.250\n",
      "Epoch 174: | Loss: 0.27281 | Acc: 87.000\n",
      "Epoch 175: | Loss: 0.25820 | Acc: 87.000\n",
      "Epoch 176: | Loss: 0.26453 | Acc: 87.750\n",
      "Epoch 177: | Loss: 0.26950 | Acc: 87.500\n",
      "Epoch 178: | Loss: 0.25058 | Acc: 88.750\n",
      "Epoch 179: | Loss: 0.27109 | Acc: 88.000\n",
      "Epoch 180: | Loss: 0.26640 | Acc: 87.500\n",
      "Epoch 181: | Loss: 0.26951 | Acc: 86.500\n",
      "Epoch 182: | Loss: 0.25982 | Acc: 87.750\n",
      "Epoch 183: | Loss: 0.25246 | Acc: 88.250\n",
      "Epoch 184: | Loss: 0.24048 | Acc: 88.750\n",
      "Epoch 185: | Loss: 0.24424 | Acc: 89.500\n",
      "Epoch 186: | Loss: 0.24270 | Acc: 87.750\n",
      "Epoch 187: | Loss: 0.26170 | Acc: 87.000\n",
      "Epoch 188: | Loss: 0.25911 | Acc: 86.250\n",
      "Epoch 189: | Loss: 0.25800 | Acc: 87.250\n",
      "Epoch 190: | Loss: 0.24523 | Acc: 89.500\n",
      "Epoch 191: | Loss: 0.25940 | Acc: 87.500\n",
      "Epoch 192: | Loss: 0.24160 | Acc: 88.000\n",
      "Epoch 193: | Loss: 0.23889 | Acc: 88.250\n",
      "Epoch 194: | Loss: 0.24332 | Acc: 89.500\n",
      "Epoch 195: | Loss: 0.23813 | Acc: 88.500\n",
      "Epoch 196: | Loss: 0.24198 | Acc: 88.000\n",
      "Epoch 197: | Loss: 0.23989 | Acc: 89.250\n",
      "Epoch 198: | Loss: 0.23128 | Acc: 88.250\n",
      "Epoch 199: | Loss: 0.25695 | Acc: 87.000\n",
      "Epoch 200: | Loss: 0.25176 | Acc: 87.250\n"
     ]
    }
   ],
   "source": [
    "model.train()\n",
    "for e in range(1, EPOCHS+1):\n",
    "    epoch_loss = 0\n",
    "    epoch_acc = 0\n",
    "    for X_batch, y_batch in train_loader:\n",
    "        optimizer.zero_grad()\n",
    "        \n",
    "        y_pred = model(X_batch)\n",
    "        \n",
    "        loss = criterion(y_pred, y_batch.unsqueeze(1))\n",
    "        acc = binary_acc(y_pred, y_batch.unsqueeze(1))\n",
    "        \n",
    "        loss.backward()\n",
    "        optimizer.step()\n",
    "        \n",
    "        epoch_loss += loss.item()\n",
    "        epoch_acc += acc.item()\n",
    "        \n",
    "\n",
    "    print(f'Epoch {e+0:03}: | Loss: {epoch_loss/len(train_loader):.5f} | Acc: {epoch_acc/len(train_loader):.3f}')"
   ]
  },
  {
   "cell_type": "code",
   "execution_count": 63,
   "id": "prerequisite-advisory",
   "metadata": {},
   "outputs": [],
   "source": [
    "y_pred_list = []\n",
    "model.eval()\n",
    "with torch.no_grad():\n",
    "    for X_batch in test_loader:\n",
    "        y_test_pred = model(X_batch)\n",
    "        y_test_pred = torch.sigmoid(y_test_pred)\n",
    "        y_pred_tag = torch.round(y_test_pred)\n",
    "        y_pred_list.append(y_pred_tag.cpu().numpy())\n",
    "\n",
    "y_pred_list = [a.squeeze().tolist() for a in y_pred_list]"
   ]
  },
  {
   "cell_type": "code",
   "execution_count": 64,
   "id": "activated-adobe",
   "metadata": {},
   "outputs": [
    {
     "data": {
      "text/plain": [
       "array([[ 80,   7],\n",
       "       [ 28, 135]], dtype=int64)"
      ]
     },
     "execution_count": 64,
     "metadata": {},
     "output_type": "execute_result"
    }
   ],
   "source": [
    "confusion_matrix(y_test, y_pred_list)"
   ]
  },
  {
   "cell_type": "code",
   "execution_count": 65,
   "id": "requested-criminal",
   "metadata": {},
   "outputs": [
    {
     "data": {
      "text/plain": [
       "array([[  8, 211],\n",
       "       [  1, 487]], dtype=int64)"
      ]
     },
     "execution_count": 65,
     "metadata": {},
     "output_type": "execute_result"
    }
   ],
   "source": [
    "df = pd.read_csv(\"prediction_target_final.csv\")\n",
    "df.head()\n",
    "X_tar = df.iloc[:, 0:-1]\n",
    "y_tar = df.iloc[:, -1]\n",
    "X_tar = scaler.transform(X_tar)\n",
    "\n",
    "test_tar_data = TestData(torch.FloatTensor(X_tar))\n",
    "test_tar_loader = DataLoader(dataset=test_tar_data, batch_size=1)\n",
    "\n",
    "y_pred_tar_list = []\n",
    "model.eval()\n",
    "with torch.no_grad():\n",
    "    for X_batch in test_tar_loader:\n",
    "        y_test_pred = model(X_batch)\n",
    "        y_test_pred = torch.sigmoid(y_test_pred)\n",
    "        y_pred_tag = torch.round(y_test_pred)\n",
    "        y_pred_tar_list.append(y_pred_tag.cpu().numpy())\n",
    "        \n",
    "y_pred_tar_list = [a.squeeze().tolist() for a in y_pred_tar_list]\n",
    "confusion_matrix(y_tar, y_pred_tar_list)\n",
    "# print(classification_report(y_test, y_pred_list))\n"
   ]
  },
  {
   "cell_type": "code",
   "execution_count": 66,
   "id": "plain-racing",
   "metadata": {},
   "outputs": [
    {
     "name": "stdout",
     "output_type": "stream",
     "text": [
      "              precision    recall  f1-score   support\n",
      "\n",
      "           0       0.89      0.04      0.07       219\n",
      "           1       0.70      1.00      0.82       488\n",
      "\n",
      "    accuracy                           0.70       707\n",
      "   macro avg       0.79      0.52      0.45       707\n",
      "weighted avg       0.76      0.70      0.59       707\n",
      "\n"
     ]
    }
   ],
   "source": [
    "print(classification_report(y_tar, y_pred_tar_list))"
   ]
  }
 ],
 "metadata": {
  "kernelspec": {
   "display_name": "Python 3",
   "language": "python",
   "name": "python3"
  },
  "language_info": {
   "codemirror_mode": {
    "name": "ipython",
    "version": 3
   },
   "file_extension": ".py",
   "mimetype": "text/x-python",
   "name": "python",
   "nbconvert_exporter": "python",
   "pygments_lexer": "ipython3",
   "version": "3.8.5"
  }
 },
 "nbformat": 4,
 "nbformat_minor": 5
}
