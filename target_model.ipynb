{
 "cells": [
  {
   "cell_type": "code",
   "execution_count": 87,
   "id": "dominican-spread",
   "metadata": {},
   "outputs": [],
   "source": [
    "import dgl\n",
    "import torch\n",
    "import torch.nn as nn\n",
    "import torch.nn.functional as F\n",
    "import dgl.data\n",
    "import pandas as pd\n",
    "import stellargraph as sg\n",
    "from stellargraph.mapper import GraphSAGENodeGenerator\n",
    "from stellargraph.layer import GraphSAGE\n",
    "from tensorflow.keras.callbacks import ModelCheckpoint, EarlyStopping\n",
    "from collections import Counter\n",
    "from tensorflow.keras import layers, optimizers, losses, metrics, Model\n",
    "from sklearn import preprocessing, feature_extraction, model_selection\n",
    "from stellargraph import datasets\n",
    "from IPython.display import display, HTML\n",
    "import matplotlib.pyplot as plt\n",
    "%matplotlib inline\n",
    "import random\n",
    "import numpy "
   ]
  },
  {
   "cell_type": "markdown",
   "id": "alpine-tucson",
   "metadata": {},
   "source": [
    "In this notebook, we train a victim model using NodeDrop. \n",
    "\n",
    "We use 10% of the CORA dataset for training the model using NodeDrop. The validation and test datasets are generated using 20% of the dataset each."
   ]
  },
  {
   "cell_type": "code",
   "execution_count": 88,
   "id": "departmental-joseph",
   "metadata": {},
   "outputs": [
    {
     "data": {
      "text/html": [
       "The Cora dataset consists of 2708 scientific publications classified into one of seven classes. The citation network consists of 5429 links. Each publication in the dataset is described by a 0/1-valued word vector indicating the absence/presence of the corresponding word from the dictionary. The dictionary consists of 1433 unique words."
      ],
      "text/plain": [
       "<IPython.core.display.HTML object>"
      ]
     },
     "metadata": {},
     "output_type": "display_data"
    },
    {
     "name": "stderr",
     "output_type": "stream",
     "text": [
      "C:\\Users\\mauvi\\.conda\\envs\\cv38\\lib\\site-packages\\stellargraph\\core\\convert.py:86: FutureWarning: Passing a set as an indexer is deprecated and will raise in a future version. Use a list instead.\n",
      "  known = data[existing]\n",
      "C:\\Users\\mauvi\\.conda\\envs\\cv38\\lib\\site-packages\\stellargraph\\core\\convert.py:86: FutureWarning: Passing a set as an indexer is deprecated and will raise in a future version. Use a list instead.\n",
      "  known = data[existing]\n"
     ]
    }
   ],
   "source": [
    "dataset = datasets.Cora()\n",
    "display(HTML(dataset.description))\n",
    "G, node_subjects = dataset.load()"
   ]
  },
  {
   "cell_type": "code",
   "execution_count": 90,
   "id": "infectious-procedure",
   "metadata": {},
   "outputs": [
    {
     "name": "stdout",
     "output_type": "stream",
     "text": [
      "Counter({'Neural_Networks': 79, 'Probabilistic_Methods': 49, 'Genetic_Algorithms': 48, 'Theory': 29, 'Reinforcement_Learning': 28, 'Case_Based': 26, 'Rule_Learning': 11})\n",
      "270\n",
      "Counter({'Neural_Networks': 149, 'Probabilistic_Methods': 72, 'Theory': 66, 'Case_Based': 66, 'Genetic_Algorithms': 65, 'Rule_Learning': 35, 'Reinforcement_Learning': 34})\n",
      "487\n",
      "Counter({'Neural_Networks': 155, 'Probabilistic_Methods': 82, 'Genetic_Algorithms': 68, 'Theory': 55, 'Case_Based': 49, 'Reinforcement_Learning': 46, 'Rule_Learning': 33})\n",
      "488\n"
     ]
    }
   ],
   "source": [
    "train_labels, test_labels = model_selection.train_test_split(\n",
    "    node_subjects, train_size=0.1, random_state=12\n",
    ")\n",
    "\n",
    "val_labels, test_labels = model_selection.train_test_split(\n",
    "    test_labels, train_size=0.2, test_size=0.2, random_state=15,\n",
    ")"
   ]
  },
  {
   "cell_type": "code",
   "execution_count": 91,
   "id": "composed-beach",
   "metadata": {},
   "outputs": [],
   "source": [
    "target_encoding = preprocessing.LabelBinarizer()\n",
    "\n",
    "train_targets = target_encoding.fit_transform(train_labels)\n",
    "val_targets = target_encoding.transform(val_labels)\n",
    "test_targets = target_encoding.transform(test_labels)"
   ]
  },
  {
   "cell_type": "code",
   "execution_count": 92,
   "id": "stone-thinking",
   "metadata": {},
   "outputs": [],
   "source": [
    "# number of nodes per batch\n",
    "batch_size = 50\n",
    "\n",
    "# number of neighbours per layer\n",
    "num_samples = [10, 5]\n",
    "\n",
    "# generator\n",
    "generator = GraphSAGENodeGenerator(G, batch_size, num_samples)"
   ]
  },
  {
   "cell_type": "code",
   "execution_count": 94,
   "id": "hundred-browse",
   "metadata": {},
   "outputs": [],
   "source": [
    "# GraphSage stellargraph model\n",
    "graphsage_model = GraphSAGE(\n",
    "    layer_sizes=[32, 32], \n",
    "    generator=generator,\n",
    "    bias=True, \n",
    "    dropout=0.2,\n",
    ")\n",
    "\n",
    "# get input and output tensors\n",
    "x_inp, x_out = graphsage_model.in_out_tensors()\n",
    "\n",
    "prediction = layers.Dense(units=train_targets.shape[1], activation=\"softmax\")(x_out)\n",
    "\n",
    "# build and compile\n",
    "model = Model(inputs=x_inp, outputs=prediction)\n",
    "model.compile(\n",
    "    optimizer=optimizers.Adam(lr=0.005),\n",
    "    loss=losses.binary_crossentropy,\n",
    "    metrics=[metrics.AUC(num_thresholds=200, curve='ROC'), 'acc'],\n",
    ")\n",
    "# model.summary()"
   ]
  },
  {
   "cell_type": "markdown",
   "id": "exempt-character",
   "metadata": {},
   "source": [
    "We choose n=4 (as the average degree of the dataset is 4.006) and c=50 (randomly chosen value which produced good results).\n",
    "\n",
    "In order to randomly drop 'c' nodes with degree below 'n', we must first label each node in the dataset with it's degree. The package I used here (StellarGraph) does not give us the degree of each node individually. Therefore, I wrote a separate program to determine the degree of each node and generated an edgelist (cora/deg_labelled.csv) that contains the degrees of each node.\n",
    "\n",
    "We train for 20 epochs. Between each epoch, 'c' random nodes are dropped from the dataset using the algorithm below."
   ]
  },
  {
   "cell_type": "code",
   "execution_count": 102,
   "id": "rational-prompt",
   "metadata": {},
   "outputs": [
    {
     "name": "stdout",
     "output_type": "stream",
     "text": [
      "132806, 1010\n",
      "28456, 431\n",
      "31483, 466\n",
      "156977, 1096\n",
      "1129111, 2384\n",
      "643221, 1712\n",
      "1131464, 2474\n",
      "54132, 644\n",
      "562067, 1543\n",
      "427606, 1469\n",
      "628668, 1671\n",
      "18832, 323\n",
      "1118120, 2207\n",
      "1120084, 2241\n",
      "5086, 100\n",
      "523394, 1521\n",
      "96847, 876\n",
      "102406, 899\n",
      "1137466, 2572\n",
      "853118, 1874\n",
      "1152663, 2614\n",
      "1129518, 2393\n",
      "948299, 1889\n",
      "36167, 514\n",
      "733167, 1831\n",
      "1120880, 2259\n",
      "358866, 1410\n",
      "28254, 417\n",
      "348305, 1403\n",
      "1071981, 1913\n",
      "56709, 656\n",
      "1107455, 2032\n",
      "1120197, 2245\n",
      "1109199, 2059\n",
      "12195, 224\n",
      "248425, 1287\n",
      "28641, 442\n",
      "45189, 577\n",
      "70444, 745\n",
      "1115471, 2164\n",
      "753070, 1846\n",
      "1026, 20\n",
      "273949, 1330\n",
      "66594, 715\n",
      "3222, 69\n",
      "285675, 1339\n",
      "1125092, 2299\n",
      "628764, 1673\n",
      "62274, 685\n",
      "1108728, 2054\n",
      "1140231, 2585\n",
      "190698, 1174\n",
      "417017, 1464\n",
      "561581, 1533\n",
      "1153896, 2674\n",
      "1102550, 1920\n",
      "645016, 1731\n",
      "64484, 705\n",
      "1153866, 2669\n",
      "242663, 1279\n",
      "1121659, 2271\n",
      "44121, 570\n",
      "59244, 671\n",
      "330148, 1389\n",
      "56167, 654\n",
      "593201, 1614\n",
      "1113551, 2126\n",
      "1134865, 2539\n",
      "1104055, 1946\n",
      "345340, 1400\n",
      "561568, 1532\n",
      "189577, 1165\n",
      "66564, 714\n",
      "385572, 1433\n",
      "20593, 339\n",
      "22566, 357\n",
      "85452, 824\n",
      "289885, 1351\n",
      "12182, 222\n",
      "642930, 1708\n",
      "72101, 752\n",
      "576725, 1570\n",
      "1105603, 1981\n",
      "7041, 159\n",
      "117328, 955\n",
      "1153280, 2655\n",
      "16471, 291\n",
      "74975, 771\n",
      "884094, 1878\n",
      "940, 17\n",
      "1112929, 2118\n",
      "15984, 284\n",
      "1119654, 2231\n",
      "1152904, 2625\n",
      "335733, 1393\n",
      "6216, 124\n",
      "1124844, 2297\n",
      "853115, 1872\n",
      "365294, 1417\n",
      "23069, 365\n",
      "75674, 774\n",
      "1114336, 2144\n",
      "646286, 1740\n",
      "1105148, 1968\n",
      "169279, 1124\n",
      "424540, 1468\n",
      "503871, 1500\n",
      "4274, 82\n",
      "1129629, 2400\n",
      "144330, 1063\n",
      "16437, 287\n",
      "12576, 240\n",
      "232860, 1258\n",
      "470511, 1496\n",
      "11148, 211\n",
      "1131565, 2480\n",
      "6767, 140\n",
      "684986, 1798\n",
      "1130653, 2419\n",
      "89416, 837\n",
      "1106172, 1994\n",
      "1111265, 2094\n",
      "128202, 994\n",
      "711527, 1821\n",
      "1112686, 2114\n",
      "32872, 477\n",
      "1129443, 2391\n",
      "593329, 1621\n",
      "1106112, 1993\n",
      "1955, 41\n",
      "1108656, 2053\n",
      "75972, 780\n",
      "5348, 102\n",
      "593560, 1624\n",
      "594511, 1636\n",
      "1112665, 2113\n",
      "95597, 870\n",
      "593544, 1622\n",
      "11337, 215\n",
      "100961, 890\n",
      "738941, 1838\n",
      "503883, 1502\n",
      "592830, 1601\n",
      "1129208, 2385\n",
      "94641, 858\n",
      "1123530, 2288\n",
      "44017, 569\n",
      "503877, 1501\n",
      "1131270, 2455\n",
      "252725, 1295\n",
      "8581, 174\n",
      "174418, 1132\n",
      "1131359, 2468\n",
      "1152179, 2594\n",
      "1134056, 2534\n",
      "13654, 255\n",
      "2698, 55\n",
      "77826, 787\n",
      "642798, 1703\n",
      "1131184, 2443\n",
      "1128846, 2358\n",
      "917493, 1884\n",
      "81350, 801\n",
      "18777, 317\n",
      "136767, 1035\n",
      "595193, 1643\n",
      "531351, 1525\n",
      "632874, 1682\n",
      "35, 0\n",
      "1112417, 2109\n",
      "592986, 1604\n",
      "6215, 123\n",
      "399370, 1451\n",
      "644363, 1723\n",
      "118682, 964\n",
      "1130676, 2421\n",
      "954315, 1897\n",
      "280876, 1334\n",
      "43698, 568\n",
      "101261, 893\n",
      "286500, 1341\n",
      "423463, 1466\n",
      "1153946, 2683\n",
      "1130080, 2408\n",
      "416964, 1463\n",
      "1129778, 2402\n",
      "14083, 267\n",
      "682666, 1789\n",
      "39210, 540\n",
      "1688, 31\n",
      "270600, 1326\n",
      "429781, 1471\n",
      "134199, 1021\n",
      "22386, 353\n",
      "50354, 619\n",
      "950986, 1896\n",
      "102061, 898\n",
      "13658, 257\n",
      "1105764, 1986\n",
      "1125082, 2298\n",
      "71336, 748\n",
      "24974, 380\n",
      "1121063, 2262\n",
      "263553, 1318\n",
      "1140040, 2583\n",
      "575795, 1566\n",
      "642894, 1706\n",
      "18770, 314\n",
      "1102751, 1924\n",
      "28230, 415\n",
      "395075, 1441\n",
      "644494, 1728\n",
      "1105344, 1971\n",
      "1131236, 2450\n",
      "763009, 1854\n",
      "175548, 1136\n",
      "1114153, 2138\n",
      "387795, 1434\n",
      "613409, 1657\n",
      "288, 7\n",
      "1120777, 2255\n",
      "22886, 364\n",
      "949318, 1892\n",
      "634904, 1690\n",
      "179702, 1146\n",
      "1104749, 1957\n",
      "1153056, 2637\n",
      "86359, 827\n",
      "63915, 701\n",
      "1104435, 1953\n",
      "14429, 270\n",
      "70970, 747\n",
      "447224, 1484\n",
      "1112767, 2116\n",
      "646334, 1742\n",
      "188471, 1160\n",
      "51879, 631\n",
      "561611, 1538\n",
      "15889, 282\n",
      "12350, 236\n",
      "54550, 645\n",
      "9708, 196\n",
      "236759, 1265\n",
      "22431, 354\n",
      "1120252, 2247\n",
      "1131466, 2475\n",
      "49660, 609\n",
      "1113534, 2124\n",
      "157401, 1097\n",
      "75318, 773\n",
      "1128198, 2338\n",
      "559804, 1528\n",
      "675649, 1785\n",
      "636098, 1693\n",
      "20534, 336\n",
      "1121254, 2264\n",
      "245288, 1282\n",
      "593813, 1625\n",
      "67584, 729\n",
      "12197, 225\n",
      "18619, 313\n",
      "6170, 116\n",
      "1153724, 2659\n",
      "1095507, 1914\n",
      "193352, 1183\n",
      "239829, 1273\n",
      "25181, 381\n",
      "293974, 1356\n",
      "573978, 1557\n",
      "40131, 547\n"
     ]
    },
    {
     "name": "stderr",
     "output_type": "stream",
     "text": [
      "C:\\Users\\mauvi\\.conda\\envs\\cv38\\lib\\site-packages\\pandas\\core\\indexes\\base.py:5055: FutureWarning: Using a non-tuple sequence for multidimensional indexing is deprecated; use `arr[tuple(seq)]` instead of `arr[seq]`. In the future this will be interpreted as an array index, `arr[np.array(seq)]`, which will result either in an error or a different result.\n",
      "  result = getitem(key)\n"
     ]
    },
    {
     "name": "stdout",
     "output_type": "stream",
     "text": [
      "5/5 [==============================] - 1s 161ms/step - loss: 0.3916 - auc_3: 0.6714 - acc: 0.2955 - val_loss: 0.3703 - val_auc_3: 0.7555 - val_acc: 0.4168\n"
     ]
    },
    {
     "name": "stderr",
     "output_type": "stream",
     "text": [
      "C:\\Users\\mauvi\\.conda\\envs\\cv38\\lib\\site-packages\\pandas\\core\\indexes\\base.py:5055: FutureWarning: Using a non-tuple sequence for multidimensional indexing is deprecated; use `arr[tuple(seq)]` instead of `arr[seq]`. In the future this will be interpreted as an array index, `arr[np.array(seq)]`, which will result either in an error or a different result.\n",
      "  result = getitem(key)\n"
     ]
    },
    {
     "name": "stdout",
     "output_type": "stream",
     "text": [
      "5/5 [==============================] - 0s 97ms/step - loss: 0.3410 - auc_3: 0.8732 - acc: 0.6091 - val_loss: 0.3465 - val_auc_3: 0.8293 - val_acc: 0.5318\n"
     ]
    },
    {
     "name": "stderr",
     "output_type": "stream",
     "text": [
      "C:\\Users\\mauvi\\.conda\\envs\\cv38\\lib\\site-packages\\pandas\\core\\indexes\\base.py:5055: FutureWarning: Using a non-tuple sequence for multidimensional indexing is deprecated; use `arr[tuple(seq)]` instead of `arr[seq]`. In the future this will be interpreted as an array index, `arr[np.array(seq)]`, which will result either in an error or a different result.\n",
      "  result = getitem(key)\n"
     ]
    },
    {
     "name": "stdout",
     "output_type": "stream",
     "text": [
      "5/5 [==============================] - 0s 92ms/step - loss: 0.3094 - auc_3: 0.9527 - acc: 0.7727 - val_loss: 0.3214 - val_auc_3: 0.9047 - val_acc: 0.7248\n"
     ]
    },
    {
     "name": "stderr",
     "output_type": "stream",
     "text": [
      "C:\\Users\\mauvi\\.conda\\envs\\cv38\\lib\\site-packages\\pandas\\core\\indexes\\base.py:5055: FutureWarning: Using a non-tuple sequence for multidimensional indexing is deprecated; use `arr[tuple(seq)]` instead of `arr[seq]`. In the future this will be interpreted as an array index, `arr[np.array(seq)]`, which will result either in an error or a different result.\n",
      "  result = getitem(key)\n"
     ]
    },
    {
     "name": "stdout",
     "output_type": "stream",
     "text": [
      "5/5 [==============================] - 0s 95ms/step - loss: 0.2783 - auc_3: 0.9915 - acc: 0.9045 - val_loss: 0.3010 - val_auc_3: 0.9255 - val_acc: 0.7495\n"
     ]
    },
    {
     "name": "stderr",
     "output_type": "stream",
     "text": [
      "C:\\Users\\mauvi\\.conda\\envs\\cv38\\lib\\site-packages\\pandas\\core\\indexes\\base.py:5055: FutureWarning: Using a non-tuple sequence for multidimensional indexing is deprecated; use `arr[tuple(seq)]` instead of `arr[seq]`. In the future this will be interpreted as an array index, `arr[np.array(seq)]`, which will result either in an error or a different result.\n",
      "  result = getitem(key)\n"
     ]
    },
    {
     "name": "stdout",
     "output_type": "stream",
     "text": [
      "5/5 [==============================] - 0s 92ms/step - loss: 0.2475 - auc_3: 0.9976 - acc: 0.9500 - val_loss: 0.2817 - val_auc_3: 0.9340 - val_acc: 0.7680\n"
     ]
    },
    {
     "name": "stderr",
     "output_type": "stream",
     "text": [
      "C:\\Users\\mauvi\\.conda\\envs\\cv38\\lib\\site-packages\\pandas\\core\\indexes\\base.py:5055: FutureWarning: Using a non-tuple sequence for multidimensional indexing is deprecated; use `arr[tuple(seq)]` instead of `arr[seq]`. In the future this will be interpreted as an array index, `arr[np.array(seq)]`, which will result either in an error or a different result.\n",
      "  result = getitem(key)\n"
     ]
    },
    {
     "name": "stdout",
     "output_type": "stream",
     "text": [
      "5/5 [==============================] - 0s 92ms/step - loss: 0.2232 - auc_3: 0.9995 - acc: 0.9818 - val_loss: 0.2630 - val_auc_3: 0.9439 - val_acc: 0.7947\n"
     ]
    },
    {
     "name": "stderr",
     "output_type": "stream",
     "text": [
      "C:\\Users\\mauvi\\.conda\\envs\\cv38\\lib\\site-packages\\pandas\\core\\indexes\\base.py:5055: FutureWarning: Using a non-tuple sequence for multidimensional indexing is deprecated; use `arr[tuple(seq)]` instead of `arr[seq]`. In the future this will be interpreted as an array index, `arr[np.array(seq)]`, which will result either in an error or a different result.\n",
      "  result = getitem(key)\n"
     ]
    },
    {
     "name": "stdout",
     "output_type": "stream",
     "text": [
      "5/5 [==============================] - 0s 100ms/step - loss: 0.2024 - auc_3: 0.9987 - acc: 0.9727 - val_loss: 0.2507 - val_auc_3: 0.9421 - val_acc: 0.7823\n"
     ]
    },
    {
     "name": "stderr",
     "output_type": "stream",
     "text": [
      "C:\\Users\\mauvi\\.conda\\envs\\cv38\\lib\\site-packages\\pandas\\core\\indexes\\base.py:5055: FutureWarning: Using a non-tuple sequence for multidimensional indexing is deprecated; use `arr[tuple(seq)]` instead of `arr[seq]`. In the future this will be interpreted as an array index, `arr[np.array(seq)]`, which will result either in an error or a different result.\n",
      "  result = getitem(key)\n"
     ]
    },
    {
     "name": "stdout",
     "output_type": "stream",
     "text": [
      "5/5 [==============================] - 1s 101ms/step - loss: 0.1798 - auc_3: 0.9992 - acc: 0.9773 - val_loss: 0.2368 - val_auc_3: 0.9464 - val_acc: 0.7926\n"
     ]
    },
    {
     "name": "stderr",
     "output_type": "stream",
     "text": [
      "C:\\Users\\mauvi\\.conda\\envs\\cv38\\lib\\site-packages\\pandas\\core\\indexes\\base.py:5055: FutureWarning: Using a non-tuple sequence for multidimensional indexing is deprecated; use `arr[tuple(seq)]` instead of `arr[seq]`. In the future this will be interpreted as an array index, `arr[np.array(seq)]`, which will result either in an error or a different result.\n",
      "  result = getitem(key)\n"
     ]
    },
    {
     "name": "stdout",
     "output_type": "stream",
     "text": [
      "5/5 [==============================] - 1s 142ms/step - loss: 0.1653 - auc_3: 1.0000 - acc: 0.9909 - val_loss: 0.2265 - val_auc_3: 0.9473 - val_acc: 0.7864\n"
     ]
    },
    {
     "name": "stderr",
     "output_type": "stream",
     "text": [
      "C:\\Users\\mauvi\\.conda\\envs\\cv38\\lib\\site-packages\\pandas\\core\\indexes\\base.py:5055: FutureWarning: Using a non-tuple sequence for multidimensional indexing is deprecated; use `arr[tuple(seq)]` instead of `arr[seq]`. In the future this will be interpreted as an array index, `arr[np.array(seq)]`, which will result either in an error or a different result.\n",
      "  result = getitem(key)\n"
     ]
    },
    {
     "name": "stdout",
     "output_type": "stream",
     "text": [
      "5/5 [==============================] - 0s 91ms/step - loss: 0.1468 - auc_3: 1.0000 - acc: 1.0000 - val_loss: 0.2190 - val_auc_3: 0.9469 - val_acc: 0.7721\n"
     ]
    },
    {
     "name": "stderr",
     "output_type": "stream",
     "text": [
      "C:\\Users\\mauvi\\.conda\\envs\\cv38\\lib\\site-packages\\pandas\\core\\indexes\\base.py:5055: FutureWarning: Using a non-tuple sequence for multidimensional indexing is deprecated; use `arr[tuple(seq)]` instead of `arr[seq]`. In the future this will be interpreted as an array index, `arr[np.array(seq)]`, which will result either in an error or a different result.\n",
      "  result = getitem(key)\n"
     ]
    },
    {
     "name": "stdout",
     "output_type": "stream",
     "text": [
      "5/5 [==============================] - 0s 98ms/step - loss: 0.1358 - auc_3: 1.0000 - acc: 0.9955 - val_loss: 0.2109 - val_auc_3: 0.9473 - val_acc: 0.7906\n"
     ]
    },
    {
     "name": "stderr",
     "output_type": "stream",
     "text": [
      "C:\\Users\\mauvi\\.conda\\envs\\cv38\\lib\\site-packages\\pandas\\core\\indexes\\base.py:5055: FutureWarning: Using a non-tuple sequence for multidimensional indexing is deprecated; use `arr[tuple(seq)]` instead of `arr[seq]`. In the future this will be interpreted as an array index, `arr[np.array(seq)]`, which will result either in an error or a different result.\n",
      "  result = getitem(key)\n"
     ]
    },
    {
     "name": "stdout",
     "output_type": "stream",
     "text": [
      "5/5 [==============================] - 0s 100ms/step - loss: 0.1191 - auc_3: 1.0000 - acc: 1.0000 - val_loss: 0.2022 - val_auc_3: 0.9495 - val_acc: 0.7803\n"
     ]
    },
    {
     "name": "stderr",
     "output_type": "stream",
     "text": [
      "C:\\Users\\mauvi\\.conda\\envs\\cv38\\lib\\site-packages\\pandas\\core\\indexes\\base.py:5055: FutureWarning: Using a non-tuple sequence for multidimensional indexing is deprecated; use `arr[tuple(seq)]` instead of `arr[seq]`. In the future this will be interpreted as an array index, `arr[np.array(seq)]`, which will result either in an error or a different result.\n",
      "  result = getitem(key)\n"
     ]
    },
    {
     "name": "stdout",
     "output_type": "stream",
     "text": [
      "5/5 [==============================] - 0s 99ms/step - loss: 0.1084 - auc_3: 1.0000 - acc: 0.9955 - val_loss: 0.1974 - val_auc_3: 0.9455 - val_acc: 0.8070\n"
     ]
    },
    {
     "name": "stderr",
     "output_type": "stream",
     "text": [
      "C:\\Users\\mauvi\\.conda\\envs\\cv38\\lib\\site-packages\\pandas\\core\\indexes\\base.py:5055: FutureWarning: Using a non-tuple sequence for multidimensional indexing is deprecated; use `arr[tuple(seq)]` instead of `arr[seq]`. In the future this will be interpreted as an array index, `arr[np.array(seq)]`, which will result either in an error or a different result.\n",
      "  result = getitem(key)\n"
     ]
    },
    {
     "name": "stdout",
     "output_type": "stream",
     "text": [
      "5/5 [==============================] - 0s 99ms/step - loss: 0.0964 - auc_3: 1.0000 - acc: 1.0000 - val_loss: 0.1911 - val_auc_3: 0.9475 - val_acc: 0.8049\n"
     ]
    },
    {
     "name": "stderr",
     "output_type": "stream",
     "text": [
      "C:\\Users\\mauvi\\.conda\\envs\\cv38\\lib\\site-packages\\pandas\\core\\indexes\\base.py:5055: FutureWarning: Using a non-tuple sequence for multidimensional indexing is deprecated; use `arr[tuple(seq)]` instead of `arr[seq]`. In the future this will be interpreted as an array index, `arr[np.array(seq)]`, which will result either in an error or a different result.\n",
      "  result = getitem(key)\n"
     ]
    },
    {
     "name": "stdout",
     "output_type": "stream",
     "text": [
      "5/5 [==============================] - 0s 96ms/step - loss: 0.0883 - auc_3: 1.0000 - acc: 0.9955 - val_loss: 0.1885 - val_auc_3: 0.9479 - val_acc: 0.7967\n"
     ]
    },
    {
     "name": "stderr",
     "output_type": "stream",
     "text": [
      "C:\\Users\\mauvi\\.conda\\envs\\cv38\\lib\\site-packages\\pandas\\core\\indexes\\base.py:5055: FutureWarning: Using a non-tuple sequence for multidimensional indexing is deprecated; use `arr[tuple(seq)]` instead of `arr[seq]`. In the future this will be interpreted as an array index, `arr[np.array(seq)]`, which will result either in an error or a different result.\n",
      "  result = getitem(key)\n"
     ]
    },
    {
     "name": "stdout",
     "output_type": "stream",
     "text": [
      "5/5 [==============================] - 0s 99ms/step - loss: 0.0809 - auc_3: 1.0000 - acc: 1.0000 - val_loss: 0.1808 - val_auc_3: 0.9508 - val_acc: 0.8029\n"
     ]
    },
    {
     "name": "stderr",
     "output_type": "stream",
     "text": [
      "C:\\Users\\mauvi\\.conda\\envs\\cv38\\lib\\site-packages\\pandas\\core\\indexes\\base.py:5055: FutureWarning: Using a non-tuple sequence for multidimensional indexing is deprecated; use `arr[tuple(seq)]` instead of `arr[seq]`. In the future this will be interpreted as an array index, `arr[np.array(seq)]`, which will result either in an error or a different result.\n",
      "  result = getitem(key)\n"
     ]
    },
    {
     "name": "stdout",
     "output_type": "stream",
     "text": [
      "5/5 [==============================] - 0s 93ms/step - loss: 0.0744 - auc_3: 1.0000 - acc: 0.9955 - val_loss: 0.1793 - val_auc_3: 0.9486 - val_acc: 0.8008\n"
     ]
    },
    {
     "name": "stderr",
     "output_type": "stream",
     "text": [
      "C:\\Users\\mauvi\\.conda\\envs\\cv38\\lib\\site-packages\\pandas\\core\\indexes\\base.py:5055: FutureWarning: Using a non-tuple sequence for multidimensional indexing is deprecated; use `arr[tuple(seq)]` instead of `arr[seq]`. In the future this will be interpreted as an array index, `arr[np.array(seq)]`, which will result either in an error or a different result.\n",
      "  result = getitem(key)\n"
     ]
    },
    {
     "name": "stdout",
     "output_type": "stream",
     "text": [
      "5/5 [==============================] - 0s 96ms/step - loss: 0.0690 - auc_3: 1.0000 - acc: 0.9909 - val_loss: 0.1814 - val_auc_3: 0.9457 - val_acc: 0.7844\n"
     ]
    },
    {
     "name": "stderr",
     "output_type": "stream",
     "text": [
      "C:\\Users\\mauvi\\.conda\\envs\\cv38\\lib\\site-packages\\pandas\\core\\indexes\\base.py:5055: FutureWarning: Using a non-tuple sequence for multidimensional indexing is deprecated; use `arr[tuple(seq)]` instead of `arr[seq]`. In the future this will be interpreted as an array index, `arr[np.array(seq)]`, which will result either in an error or a different result.\n",
      "  result = getitem(key)\n"
     ]
    },
    {
     "name": "stdout",
     "output_type": "stream",
     "text": [
      "5/5 [==============================] - 0s 98ms/step - loss: 0.0625 - auc_3: 1.0000 - acc: 1.0000 - val_loss: 0.1763 - val_auc_3: 0.9521 - val_acc: 0.7803\n"
     ]
    },
    {
     "name": "stderr",
     "output_type": "stream",
     "text": [
      "C:\\Users\\mauvi\\.conda\\envs\\cv38\\lib\\site-packages\\pandas\\core\\indexes\\base.py:5055: FutureWarning: Using a non-tuple sequence for multidimensional indexing is deprecated; use `arr[tuple(seq)]` instead of `arr[seq]`. In the future this will be interpreted as an array index, `arr[np.array(seq)]`, which will result either in an error or a different result.\n",
      "  result = getitem(key)\n"
     ]
    },
    {
     "name": "stdout",
     "output_type": "stream",
     "text": [
      "5/5 [==============================] - 0s 95ms/step - loss: 0.0569 - auc_3: 1.0000 - acc: 1.0000 - val_loss: 0.1743 - val_auc_3: 0.9516 - val_acc: 0.7864\n"
     ]
    }
   ],
   "source": [
    "df_degs = pd.read_csv(\"cora/deg_labelled.csv\", header=None)\n",
    "X_degs = df_degs.iloc[:, 0:-1].values.tolist()\n",
    "y_degs = df_degs.iloc[:, -1].values.tolist()\n",
    "\n",
    "deg_inds_train = []\n",
    "\n",
    "# The below for loop prints out the edgelist after it is imported in\n",
    "# the code above.\n",
    "# for i in range(0, sum(Counter(train_labels).values())):\n",
    "#     print(\"{}, {}\".format(train_labels.index[i],X_degs.index(train_labels.index[i])))\n",
    "#     deg_inds_train.append(X_degs.index(train_labels.index[i]))\n",
    "\n",
    "y_degs_train = []\n",
    "for i in range(len(deg_inds_train)):\n",
    "    y_degs_train.append(y_degs[deg_inds_train[i]])\n",
    "\n",
    "listcomp = [idx for idx, element in enumerate(y_degs_train) if element <= 4]\n",
    "\n",
    "for i in range(20):\n",
    "    y_degs_chosen = random.sample(listcomp, 50)\n",
    "    y_degs_chosen.sort()\n",
    "\n",
    "    train_labels_new = train_labels.drop(train_labels.index[[y_degs_chosen]])\n",
    "    train_targets_new = numpy.delete(train_targets, y_degs_chosen, 0)\n",
    "    train_gen = generator.flow(train_labels_new.index, train_targets_new, shuffle=True)\n",
    "    val_gen = generator.flow(val_labels.index, val_targets)\n",
    "    test_gen = generator.flow(test_labels.index, test_targets)\n",
    "\n",
    "    history = model.fit(\n",
    "        train_gen, \n",
    "        epochs=1, \n",
    "        validation_data=val_gen, \n",
    "        verbose=1, \n",
    "        shuffle=False)"
   ]
  },
  {
   "cell_type": "code",
   "execution_count": 103,
   "id": "turkish-taste",
   "metadata": {},
   "outputs": [
    {
     "name": "stdout",
     "output_type": "stream",
     "text": [
      "10/10 [==============================] - 0s 24ms/step - loss: 0.1666 - auc_3: 0.9600 - acc: 0.7971\n",
      "\n",
      "Test Set Metrics:\n",
      "\tloss: 0.1666\n",
      "\tauc_3: 0.9600\n",
      "\tacc: 0.7971\n"
     ]
    }
   ],
   "source": [
    "# Checking the test accuracy.\n",
    "test_metrics = model.evaluate(test_gen)\n",
    "print(\"\\nTest Set Metrics:\")\n",
    "for name, val in zip(model.metrics_names, test_metrics):\n",
    "    print(\"\\t{}: {:0.4f}\".format(name, val))"
   ]
  },
  {
   "cell_type": "code",
   "execution_count": 104,
   "id": "beginning-cross",
   "metadata": {},
   "outputs": [
    {
     "name": "stdout",
     "output_type": "stream",
     "text": [
      "done\n",
      "done\n"
     ]
    }
   ],
   "source": [
    "# We save the predictions of the model for the training data and prediction data.\n",
    "# These outcomes are saved to separate edgelists and are used to simulate shadow\n",
    "# model attacks.\n",
    "\n",
    "predictions = model.predict(train_gen)\n",
    "prediction_train = pd.DataFrame(predictions).to_csv('prediction_target_final.csv')\n",
    "print(\"done\")\n",
    "predictions_test = model.predict(test_gen)\n",
    "pd.DataFrame(predictions_test).to_csv('prediction_target_test_final.csv')\n",
    "print(\"done\")"
   ]
  }
 ],
 "metadata": {
  "kernelspec": {
   "display_name": "Python 3",
   "language": "python",
   "name": "python3"
  },
  "language_info": {
   "codemirror_mode": {
    "name": "ipython",
    "version": 3
   },
   "file_extension": ".py",
   "mimetype": "text/x-python",
   "name": "python",
   "nbconvert_exporter": "python",
   "pygments_lexer": "ipython3",
   "version": "3.8.5"
  }
 },
 "nbformat": 4,
 "nbformat_minor": 5
}
